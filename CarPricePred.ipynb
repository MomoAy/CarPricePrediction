{
 "cells": [
  {
   "metadata": {},
   "cell_type": "markdown",
   "source": "# Prédiction du prix des voitures",
   "id": "ac94abafab495d83"
  },
  {
   "metadata": {},
   "cell_type": "markdown",
   "source": [
    "## Objectif du projet :\n",
    "Ce projet vise à prédire le prix des voitures en fonction de différentes caractéristiques telles que l'année, le type de carburant, et d'autres variables.\n",
    "Nous utiliserons des algorithmes d'apprentissage automatique pour construire un modèle de prédiction précis."
   ],
   "id": "48e92dbc03536bb3"
  },
  {
   "metadata": {},
   "cell_type": "markdown",
   "source": "# Importation des bibliothèques nécessaires",
   "id": "ceff3d54ff47e346"
  },
  {
   "metadata": {
    "ExecuteTime": {
     "end_time": "2025-02-26T23:18:50.701468Z",
     "start_time": "2025-02-26T23:18:50.695588Z"
    }
   },
   "cell_type": "code",
   "outputs": [],
   "execution_count": 68,
   "source": [
    "import pandas as pd\n",
    "import seaborn as sns\n",
    "import matplotlib.pyplot as plt\n",
    "from sklearn.model_selection import train_test_split\n",
    "from sklearn.metrics import mean_absolute_error\n",
    "from sklearn.tree import DecisionTreeRegressor\n",
    "from sklearn.ensemble import RandomForestRegressor"
   ],
   "id": "b83b849516e6f62b"
  },
  {
   "metadata": {},
   "cell_type": "markdown",
   "source": [
    "# Chargement du dataset\n",
    "\n",
    "Le dataset provient de Kaggle et contient diverses informations sur les voitures, notamment leur année de fabrication, leur prix et leur type de carburant."
   ],
   "id": "183b83f41111aac0"
  },
  {
   "metadata": {
    "ExecuteTime": {
     "end_time": "2025-02-26T23:18:50.730500Z",
     "start_time": "2025-02-26T23:18:50.712522Z"
    }
   },
   "cell_type": "code",
   "outputs": [],
   "execution_count": 69,
   "source": [
    "file_path = \"car_price_dataset.csv\"\n",
    "df = pd.read_csv(file_path)"
   ],
   "id": "8c73d1fa-af31-4f8c-ab8b-5ec0e4453d5c"
  },
  {
   "metadata": {},
   "cell_type": "markdown",
   "source": "# Explorons nos données",
   "id": "1f9e12415cb15431"
  },
  {
   "metadata": {
    "ExecuteTime": {
     "end_time": "2025-02-26T23:18:50.756937Z",
     "start_time": "2025-02-26T23:18:50.751111Z"
    }
   },
   "cell_type": "code",
   "source": "print(df.head())",
   "id": "cf7069d5b7da5c88",
   "outputs": [
    {
     "name": "stdout",
     "output_type": "stream",
     "text": [
      "        Brand   Model  Year  Engine_Size Fuel_Type    Transmission  Mileage  \\\n",
      "0         Kia     Rio  2020          4.2    Diesel          Manual   289944   \n",
      "1   Chevrolet  Malibu  2012          2.0    Hybrid       Automatic     5356   \n",
      "2    Mercedes     GLA  2020          4.2    Diesel       Automatic   231440   \n",
      "3        Audi      Q5  2023          2.0  Electric          Manual   160971   \n",
      "4  Volkswagen    Golf  2003          2.6    Hybrid  Semi-Automatic   286618   \n",
      "\n",
      "   Doors  Owner_Count  Price  \n",
      "0      3            5   8501  \n",
      "1      2            3  12092  \n",
      "2      4            2  11171  \n",
      "3      2            1  11780  \n",
      "4      3            3   2867  \n"
     ]
    }
   ],
   "execution_count": 70
  },
  {
   "metadata": {
    "ExecuteTime": {
     "end_time": "2025-02-26T23:18:50.813039Z",
     "start_time": "2025-02-26T23:18:50.796321Z"
    }
   },
   "cell_type": "code",
   "source": "print(df.describe())",
   "id": "dcad72f73102f046",
   "outputs": [
    {
     "name": "stdout",
     "output_type": "stream",
     "text": [
      "               Year   Engine_Size        Mileage         Doors   Owner_Count  \\\n",
      "count  10000.000000  10000.000000   10000.000000  10000.000000  10000.000000   \n",
      "mean    2011.543700      3.000560  149239.111800      3.497100      2.991100   \n",
      "std        6.897699      1.149324   86322.348957      1.110097      1.422682   \n",
      "min     2000.000000      1.000000      25.000000      2.000000      1.000000   \n",
      "25%     2006.000000      2.000000   74649.250000      3.000000      2.000000   \n",
      "50%     2012.000000      3.000000  149587.000000      3.000000      3.000000   \n",
      "75%     2017.000000      4.000000  223577.500000      4.000000      4.000000   \n",
      "max     2023.000000      5.000000  299947.000000      5.000000      5.000000   \n",
      "\n",
      "             Price  \n",
      "count  10000.00000  \n",
      "mean    8852.96440  \n",
      "std     3112.59681  \n",
      "min     2000.00000  \n",
      "25%     6646.00000  \n",
      "50%     8858.50000  \n",
      "75%    11086.50000  \n",
      "max    18301.00000  \n"
     ]
    }
   ],
   "execution_count": 71
  },
  {
   "metadata": {
    "ExecuteTime": {
     "end_time": "2025-02-26T23:18:50.836813Z",
     "start_time": "2025-02-26T23:18:50.824386Z"
    }
   },
   "cell_type": "code",
   "source": "print(df.info())",
   "id": "fbe6a98f5b414050",
   "outputs": [
    {
     "name": "stdout",
     "output_type": "stream",
     "text": [
      "<class 'pandas.core.frame.DataFrame'>\n",
      "RangeIndex: 10000 entries, 0 to 9999\n",
      "Data columns (total 10 columns):\n",
      " #   Column        Non-Null Count  Dtype  \n",
      "---  ------        --------------  -----  \n",
      " 0   Brand         10000 non-null  object \n",
      " 1   Model         10000 non-null  object \n",
      " 2   Year          10000 non-null  int64  \n",
      " 3   Engine_Size   10000 non-null  float64\n",
      " 4   Fuel_Type     10000 non-null  object \n",
      " 5   Transmission  10000 non-null  object \n",
      " 6   Mileage       10000 non-null  int64  \n",
      " 7   Doors         10000 non-null  int64  \n",
      " 8   Owner_Count   10000 non-null  int64  \n",
      " 9   Price         10000 non-null  int64  \n",
      "dtypes: float64(1), int64(5), object(4)\n",
      "memory usage: 781.4+ KB\n",
      "None\n"
     ]
    }
   ],
   "execution_count": 72
  },
  {
   "metadata": {
    "ExecuteTime": {
     "end_time": "2025-02-26T23:18:50.862506Z",
     "start_time": "2025-02-26T23:18:50.856977Z"
    }
   },
   "cell_type": "code",
   "source": "print(df.isnull().sum())",
   "id": "46747ec70f039365",
   "outputs": [
    {
     "name": "stdout",
     "output_type": "stream",
     "text": [
      "Brand           0\n",
      "Model           0\n",
      "Year            0\n",
      "Engine_Size     0\n",
      "Fuel_Type       0\n",
      "Transmission    0\n",
      "Mileage         0\n",
      "Doors           0\n",
      "Owner_Count     0\n",
      "Price           0\n",
      "dtype: int64\n"
     ]
    }
   ],
   "execution_count": 73
  },
  {
   "metadata": {},
   "cell_type": "markdown",
   "source": [
    "PAnalysons quelques facettes de notre jeu de données :\n",
    "- Rapport type de carburant et prix"
   ],
   "id": "a314de0c42632f61"
  },
  {
   "metadata": {
    "ExecuteTime": {
     "end_time": "2025-02-27T00:16:27.907973Z",
     "start_time": "2025-02-27T00:16:27.653058Z"
    }
   },
   "cell_type": "code",
   "source": [
    "veh_per_year = df['Year'].value_counts().sort_index()\n",
    "plt.figure(figsize=(12, 6))\n",
    "sns.barplot(x = df['Fuel_Type'], y = df['Price'], hue = df['Fuel_Type'], palette='viridis', legend = False)\n",
    "plt.title('Prix en fonction du type de carburant')\n",
    "plt.xlabel('Type de Carburant')\n",
    "plt.ylabel('Prix')\n",
    "plt.tight_layout()\n",
    "plt.show()"
   ],
   "id": "2bfcd8ee9092ef1b",
   "outputs": [
    {
     "data": {
      "text/plain": [
       "<Figure size 1200x600 with 1 Axes>"
      ],
      "image/png": "[encoded data removed]"
     },
     "metadata": {},
     "output_type": "display_data"
    }
   ],
   "execution_count": 95
  },
  {
   "metadata": {},
   "cell_type": "markdown",
   "source": "- Prix des véhicules en fontion des années",
   "id": "42b598336b9108b"
  },
  {
   "metadata": {
    "ExecuteTime": {
     "end_time": "2025-02-27T00:05:23.267972Z",
     "start_time": "2025-02-27T00:05:22.522447Z"
    }
   },
   "cell_type": "code",
   "source": [
    "plt.figure(figsize=(12, 6))\n",
    "sns.barplot(x = df['Year'], y = df['Price'], hue = df['Year'], palette='viridis', legend = False)\n",
    "plt.title('Prix des véhicules en fonction des années')\n",
    "plt.xlabel('Années')\n",
    "plt.ylabel('Prix')\n",
    "plt.tight_layout()\n",
    "plt.show()"
   ],
   "id": "9a7f88a1e1718346",
   "outputs": [
    {
     "data": {
      "text/plain": [
       "<Figure size 1200x600 with 1 Axes>"
      ],
      "image/png": "[encoded data removed]"
     },
     "metadata": {},
     "output_type": "display_data"
    }
   ],
   "execution_count": 89
  },
  {
   "metadata": {},
   "cell_type": "markdown",
   "source": [
    "# Prétraitement\n",
    "Étant donné que nous n'avons pas besoin gérer les valeurs manquantes, nous allons commencer d'abord par différencier la colonne de prédiction et ceux d'entraînements"
   ],
   "id": "385f373764f6fa6c"
  },
  {
   "metadata": {
    "ExecuteTime": {
     "end_time": "2025-02-26T23:18:51.536627Z",
     "start_time": "2025-02-26T23:18:51.531622Z"
    }
   },
   "cell_type": "code",
   "source": [
    "y = df.Price\n",
    "X = df.drop(['Price'], axis = 1)"
   ],
   "id": "c6578cc2ce26adbf",
   "outputs": [],
   "execution_count": 75
  },
  {
   "metadata": {},
   "cell_type": "markdown",
   "source": "Ensuite, nous allons maintenant dégager les variables catégoriques et les encoder en binaire (OneHotEncoder).",
   "id": "d67a6eacd87930ec"
  },
  {
   "metadata": {
    "ExecuteTime": {
     "end_time": "2025-02-26T23:18:51.561318Z",
     "start_time": "2025-02-26T23:18:51.550140Z"
    }
   },
   "cell_type": "code",
   "source": [
    "cat_columns = [col for col in X.columns if X[col].dtypes == 'object']\n",
    "print(cat_columns)\n",
    "X = pd.get_dummies(X, columns = cat_columns, drop_first = True)"
   ],
   "id": "8264b643f35b1e0d",
   "outputs": [
    {
     "name": "stdout",
     "output_type": "stream",
     "text": [
      "['Brand', 'Model', 'Fuel_Type', 'Transmission']\n"
     ]
    }
   ],
   "execution_count": 76
  },
  {
   "metadata": {},
   "cell_type": "markdown",
   "source": "Prenons le temps de regarder encore nos données",
   "id": "3fbfff1cc529eaeb"
  },
  {
   "metadata": {
    "ExecuteTime": {
     "end_time": "2025-02-26T23:18:51.589168Z",
     "start_time": "2025-02-26T23:18:51.581770Z"
    }
   },
   "cell_type": "code",
   "source": "print(X.head())",
   "id": "7bc26a28d63ce353",
   "outputs": [
    {
     "name": "stdout",
     "output_type": "stream",
     "text": [
      "   Year  Engine_Size  Mileage  Doors  Owner_Count  Brand_BMW  Brand_Chevrolet  \\\n",
      "0  2020          4.2   289944      3            5      False            False   \n",
      "1  2012          2.0     5356      2            3      False             True   \n",
      "2  2020          4.2   231440      4            2      False            False   \n",
      "3  2023          2.0   160971      2            1      False            False   \n",
      "4  2003          2.6   286618      3            3      False            False   \n",
      "\n",
      "   Brand_Ford  Brand_Honda  Brand_Hyundai  ...  Model_Sonata  Model_Sportage  \\\n",
      "0       False        False          False  ...         False           False   \n",
      "1       False        False          False  ...         False           False   \n",
      "2       False        False          False  ...         False           False   \n",
      "3       False        False          False  ...         False           False   \n",
      "4       False        False          False  ...         False           False   \n",
      "\n",
      "   Model_Tiguan  Model_Tucson  Model_X5  Fuel_Type_Electric  Fuel_Type_Hybrid  \\\n",
      "0         False         False     False               False             False   \n",
      "1         False         False     False               False              True   \n",
      "2         False         False     False               False             False   \n",
      "3         False         False     False                True             False   \n",
      "4         False         False     False               False              True   \n",
      "\n",
      "   Fuel_Type_Petrol  Transmission_Manual  Transmission_Semi-Automatic  \n",
      "0             False                 True                        False  \n",
      "1             False                False                        False  \n",
      "2             False                False                        False  \n",
      "3             False                 True                        False  \n",
      "4             False                False                         True  \n",
      "\n",
      "[5 rows x 48 columns]\n"
     ]
    }
   ],
   "execution_count": 77
  },
  {
   "metadata": {},
   "cell_type": "markdown",
   "source": "Départageons nos données en données d'entraînements et données de test, avec un ratio de 80%-20%",
   "id": "885509a05738775f"
  },
  {
   "metadata": {
    "ExecuteTime": {
     "end_time": "2025-02-26T23:18:51.623837Z",
     "start_time": "2025-02-26T23:18:51.615582Z"
    }
   },
   "cell_type": "code",
   "source": "X_train, X_val, y_train, y_val = train_test_split(X, y, test_size = 0.2, random_state = 1)",
   "id": "f1db7c98c641dd69",
   "outputs": [],
   "execution_count": 78
  },
  {
   "metadata": {},
   "cell_type": "markdown",
   "source": "# Entraînement du model",
   "id": "d3cb7c1acba41464"
  },
  {
   "metadata": {},
   "cell_type": "markdown",
   "source": [
    "Nous allons faire des prédictions avec deux modèles différents :\n",
    "- DecisionTreeRegressor\n",
    "- RandomForestRegressor\n",
    "\n",
    "Pour nous faciliter la tâche, nous allons définir une fonction qui retournera le *mean_absolute_erreur* en vue de voir quelle est le modèle avec une meilleure précision."
   ],
   "id": "fbff9ec7bbb90a71"
  },
  {
   "metadata": {
    "ExecuteTime": {
     "end_time": "2025-02-26T23:18:51.665042Z",
     "start_time": "2025-02-26T23:18:51.661878Z"
    }
   },
   "cell_type": "code",
   "source": [
    "def score_mae(X_t, X_v, y_t, y_v, model):\n",
    "    model.fit(X_t, y_t)\n",
    "    pred = model.predict(X_v)\n",
    "    return mean_absolute_error(y_v, pred)"
   ],
   "id": "aab2b96fcb04dc8a",
   "outputs": [],
   "execution_count": 79
  },
  {
   "metadata": {},
   "cell_type": "markdown",
   "source": "# Evaluation du modèle",
   "id": "f5d2d688d2db6069"
  },
  {
   "metadata": {},
   "cell_type": "markdown",
   "source": "- RandomForestRegressor",
   "id": "f088f1a83972b20e"
  },
  {
   "metadata": {
    "ExecuteTime": {
     "end_time": "2025-02-26T23:18:55.210785Z",
     "start_time": "2025-02-26T23:18:51.679188Z"
    }
   },
   "cell_type": "code",
   "outputs": [
    {
     "name": "stdout",
     "output_type": "stream",
     "text": [
      "Score pour la forêt aléatoire :  436.86445499999996\n"
     ]
    }
   ],
   "execution_count": 80,
   "source": "print(\"Score pour la forêt aléatoire : \", score_mae(X_train, X_val, y_train, y_val, RandomForestRegressor(n_estimators = 100, random_state = 1)))",
   "id": "2a8b7a681904faba"
  },
  {
   "metadata": {},
   "cell_type": "markdown",
   "source": [
    "- DecisionTreeReegressor : Nous essayerons dans un premier temps de déterminer une profondeur d'arbre idéale pour une meilleure comparaison.\n",
    "\n",
    "Pourquoi ? Afin d'éviter des problèmes d'underfit ou d'overfit"
   ],
   "id": "6e04eee0e6138f64"
  },
  {
   "metadata": {
    "ExecuteTime": {
     "end_time": "2025-02-26T23:54:52.375053Z",
     "start_time": "2025-02-26T23:54:51.903420Z"
    }
   },
   "cell_type": "code",
   "outputs": [
    {
     "name": "stdout",
     "output_type": "stream",
     "text": [
      "{100: 900.1897585494413, 500: 745.1094437511927, 1000: 687.5718091846493, 5000: 649.4655124999999, 10000: 648.1815, 50000: 648.1815, 100000: 648.1815, 500000: 648.1815}\n",
      "10000\n"
     ]
    }
   ],
   "execution_count": 88,
   "source": [
    "candidate_mln = [100, 500, 1000, 5000, 10000, 50000, 100000, 500000]\n",
    "mln_scores = {\n",
    "    m : score_mae(X_train, X_val, y_train, y_val, DecisionTreeRegressor(max_leaf_nodes = m, random_state = 1))\n",
    "    for m in candidate_mln\n",
    "}\n",
    "best_tree_size = min(mln_scores, key = mln_scores.get)\n",
    "print(\"Profondeur idéale : \",best_tree_size)"
   ],
   "id": "db8d8d90a65ee31f"
  },
  {
   "metadata": {},
   "cell_type": "markdown",
   "source": [
    "Nous avons sctocké la profondeur idéale pour l'arbre de décision dans #best_tree_size\n",
    "\n",
    "_Remarques_ : Lors de mon apprentissage, il a été conseillé que lorsqu'on a la profondeur idéale, on entraîne le modèle avec l'ensemble des données, mais nous, nous n'allons pas le faire. (Bon à savoir)"
   ],
   "id": "de902707d10f8845"
  },
  {
   "metadata": {
    "ExecuteTime": {
     "end_time": "2025-02-26T23:54:22.127744Z",
     "start_time": "2025-02-26T23:54:22.033753Z"
    }
   },
   "cell_type": "code",
   "outputs": [
    {
     "name": "stdout",
     "output_type": "stream",
     "text": [
      "Score pour la l'arbre de décision :  648.1815\n"
     ]
    }
   ],
   "execution_count": 87,
   "source": "print(\"Score pour la l'arbre de décision : \", score_mae(X_train, X_val, y_train, y_val, DecisionTreeRegressor(max_leaf_nodes = best_tree_size,random_state = 1)))",
   "id": "42695ba730a93821"
  },
  {
   "metadata": {},
   "cell_type": "markdown",
   "source": [
    "# Conclusion\n",
    "Nous avons exploré et préparé les données et effectuer des visualisations.\n",
    "Nous avons testé deux modèles : **Decision Tree** et **Random Forest**.\n",
    "**Random Forest** donne de meilleurs résultats en termes de MAE, ce qui en fait un bon choix pour ce problème.\n"
   ],
   "id": "a970dee39714e9c4"
  }
 ],
 "metadata": {
  "kernelspec": {
   "display_name": "Python 3 (ipykernel)",
   "language": "python",
   "name": "python3"
  },
  "language_info": {
   "codemirror_mode": {
    "name": "ipython",
    "version": 3
   },
   "file_extension": ".py",
   "mimetype": "text/x-python",
   "name": "python",
   "nbconvert_exporter": "python",
   "pygments_lexer": "ipython3",
   "version": "3.12.7"
  }
 },
 "nbformat": 4,
 "nbformat_minor": 5
}
